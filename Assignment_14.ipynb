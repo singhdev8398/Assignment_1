{
 "cells": [
  {
   "cell_type": "markdown",
   "id": "4e4d2b15",
   "metadata": {},
   "source": [
    "# 1. What does RGBA stand for?"
   ]
  },
  {
   "cell_type": "markdown",
   "id": "c6548e5b",
   "metadata": {},
   "source": [
    "ans:- RGBA(Red-Green-Blue-Alpha)"
   ]
  },
  {
   "cell_type": "markdown",
   "id": "1709446e",
   "metadata": {},
   "source": [
    "# 2. From the Pillow module, how do you get the RGBA value of any images?"
   ]
  },
  {
   "cell_type": "markdown",
   "id": "23fd3e7a",
   "metadata": {},
   "source": [
    "ans:- Pillow offers the ImageColor.getcolor() function so you don’t have to memorize RGBA values for the colors you want to use. This function takes a color name string as its first argument, and the string 'RGBA' as its second argument, and it returns an RGBA tuple.\n",
    "\n"
   ]
  },
  {
   "cell_type": "markdown",
   "id": "9d79c930",
   "metadata": {},
   "source": [
    "# 3. What is a box tuple, and how does it work?"
   ]
  },
  {
   "cell_type": "markdown",
   "id": "7c6228f6",
   "metadata": {},
   "source": [
    "ans:- The box. tuple submodule provides read-only access for the tuple userdata type. It allows, for a single tuple: selective retrieval of the field contents, retrieval of information about size, iteration over all the fields, and conversion to a Lua table."
   ]
  },
  {
   "cell_type": "markdown",
   "id": "9a7d9468",
   "metadata": {},
   "source": [
    "# 4. Use your image and load in notebook then, How can you find out the width and height of an Image object?"
   ]
  },
  {
   "cell_type": "markdown",
   "id": "5cb2f6d0",
   "metadata": {},
   "source": [
    "Ans:-  The image size (width, height) can be obtained using the shape attribute, which returns a tuple of dimensions."
   ]
  },
  {
   "cell_type": "code",
   "execution_count": null,
   "id": "4ae013f2",
   "metadata": {},
   "outputs": [],
   "source": [
    "import cv2\n",
    "\n",
    "im = cv2.imread('data/src/lena.jpg')\n",
    "\n",
    "print(type(im))\n",
    "# <class 'numpy.ndarray'>\n",
    "\n",
    "print(im.shape)\n",
    "print(type(im.shape))\n",
    "# (225, 400, 3)\n",
    "# <class 'tuple'>"
   ]
  },
  {
   "cell_type": "markdown",
   "id": "49057c98",
   "metadata": {},
   "source": [
    "# 5. What method would you call to get Image object for a 100×100 image, excluding the lower-left quarter of it?"
   ]
  },
  {
   "cell_type": "markdown",
   "id": "8d0ba9cb",
   "metadata": {},
   "source": [
    "ans:- OpenCV: Get image size (width, height) with ndarray.shape  \n",
    "\n",
    "For color images\n",
    ",For grayscale (monochrome) images \n",
    "\n",
    "Pillow (PIL): Get image size (width, height) with size, width, height"
   ]
  },
  {
   "cell_type": "markdown",
   "id": "747f4b72",
   "metadata": {},
   "source": [
    "# 6. After making changes to an Image object, how could you save it as an image file?"
   ]
  },
  {
   "cell_type": "markdown",
   "id": "662e056c",
   "metadata": {},
   "source": [
    "ns:- The PIL module is used for storing, processing, and displaying images in Python. To save images, we can use the PIL. save() function."
   ]
  },
  {
   "cell_type": "code",
   "execution_count": null,
   "id": "33e6227a",
   "metadata": {},
   "outputs": [],
   "source": [
    "from PIL import Image\n",
    "img = Image.open('loadimage.jpg')\n",
    "img = img.save('savedimage.jpg')\n",
    " "
   ]
  },
  {
   "cell_type": "markdown",
   "id": "87094abd",
   "metadata": {},
   "source": [
    "# 7. What module contains Pillow’s shape-drawing code?"
   ]
  },
  {
   "cell_type": "markdown",
   "id": "c9fcc78a",
   "metadata": {},
   "source": [
    "ans:- The 'ImageDraw' module provides simple 2D graphics support for Image Object. Generally, we use this module to create new images, annotate or retouch existing images and to generate graphics on the fly for web use."
   ]
  },
  {
   "cell_type": "markdown",
   "id": "a999f90f",
   "metadata": {},
   "source": [
    "# 8. Image objects do not have drawing methods. What kind of object does? How do you get this kind of object?"
   ]
  },
  {
   "cell_type": "markdown",
   "id": "cc6d74bc",
   "metadata": {},
   "source": [
    "Ans:- Draw() to get an ImageDraw object, and storing the ImageDraw object in draw , you can call drawing methods on draw "
   ]
  },
  {
   "cell_type": "code",
   "execution_count": null,
   "id": "dd809d04",
   "metadata": {},
   "outputs": [],
   "source": []
  }
 ],
 "metadata": {
  "kernelspec": {
   "display_name": "Python 3 (ipykernel)",
   "language": "python",
   "name": "python3"
  },
  "language_info": {
   "codemirror_mode": {
    "name": "ipython",
    "version": 3
   },
   "file_extension": ".py",
   "mimetype": "text/x-python",
   "name": "python",
   "nbconvert_exporter": "python",
   "pygments_lexer": "ipython3",
   "version": "3.9.12"
  }
 },
 "nbformat": 4,
 "nbformat_minor": 5
}
