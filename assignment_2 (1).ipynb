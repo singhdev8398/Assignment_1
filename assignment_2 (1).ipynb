{
 "cells": [
  {
   "cell_type": "markdown",
   "id": "f933ab35",
   "metadata": {},
   "source": [
    "# 1.What are the two values of the Boolean data type? How do you write them?\n",
    "ans:-two values of the boolean data type are true and false.using capital T and F, with the rest of the word in lowercase"
   ]
  },
  {
   "cell_type": "markdown",
   "id": "a19aca94",
   "metadata": {},
   "source": [
    "# 2. What are the three different types of Boolean operators?\n",
    "ans:-three different types of boolean operatora are and, or, & not"
   ]
  },
  {
   "cell_type": "markdown",
   "id": "dd98647b",
   "metadata": {},
   "source": [
    "# 3. Make a list of each Boolean operator's truth tables (i.e. every possible combination of Boolean values for the operator and what it evaluate ).\n",
    "ans:- True and True is True.\n",
    "\n",
    "True and False is False.\n",
    "\n",
    "False and True is False.\n",
    "\n",
    "False and False is False.\n",
    "\n",
    "True or True is True.\n",
    "\n",
    "True or False is True.\n",
    "\n",
    "False or True is True.\n",
    "\n",
    "False or False is False.\n",
    "\n",
    "not True is False.\n",
    "\n",
    "not False is True."
   ]
  },
  {
   "cell_type": "markdown",
   "id": "08a4b794",
   "metadata": {},
   "source": [
    "# 4. What are the values of the following expressions?\n",
    "(5 > 4) and (3 == 5) = false\n",
    "\n",
    " not (5 > 4) = false\n",
    " \n",
    "(5 > 4) or (3 == 5) = true\n",
    "\n",
    "not ((5 > 4) or (3 == 5)) = false\n",
    "\n",
    "(True and True) and (True == False) = false\n",
    "\n",
    "(not False) or (not True) = true"
   ]
  },
  {
   "cell_type": "markdown",
   "id": "f1747237",
   "metadata": {},
   "source": [
    "# 5. What are the six comparison operators?\n",
    "ans:- ==, !=, <, >, <=, and >="
   ]
  },
  {
   "cell_type": "markdown",
   "id": "f1935491",
   "metadata": {},
   "source": [
    "# 6. How do you tell the difference between the equal to and assignment operators?Describe a condition and when you would use one.\n",
    "ans:- == is the equal to operator that compares two values and evaluateto a boolean, while = is the assignment operator that store a value in a variable"
   ]
  },
  {
   "cell_type": "markdown",
   "id": "671243e6",
   "metadata": {},
   "source": [
    "# 7. Identify the three blocks in this code:"
   ]
  },
  {
   "cell_type": "code",
   "execution_count": 19,
   "id": "99683c04",
   "metadata": {},
   "outputs": [
    {
     "name": "stdout",
     "output_type": "stream",
     "text": [
      "ham\n",
      "spam\n",
      "spam\n"
     ]
    }
   ],
   "source": [
    "spam = 0\n",
    "if spam == 10:\n",
    "    print('eggs')\n",
    "if spam>5:\n",
    "    print('bacon')\n",
    "else:\n",
    "    print('ham')\n",
    "    print('spam')\n",
    "    print('spam')"
   ]
  },
  {
   "cell_type": "markdown",
   "id": "274bd89b",
   "metadata": {},
   "source": [
    "The three blocks are everything inside the if statement. initial condition spam =0 now check the all conditions one by one \n",
    "if condition 1st if statement is true then print eggs otherwise check the second condition if true then print bacon otherwie print else condition."
   ]
  },
  {
   "cell_type": "markdown",
   "id": "17505da8",
   "metadata": {},
   "source": [
    "# 8. Write code that prints Hello if 1 is stored in spam, prints Howdy if 2 is stored in spam, and prints Greetings! if anything else is stored in spam."
   ]
  },
  {
   "cell_type": "code",
   "execution_count": 3,
   "id": "ef6eb09b",
   "metadata": {},
   "outputs": [
    {
     "name": "stdout",
     "output_type": "stream",
     "text": [
      "Greetings!\n"
     ]
    }
   ],
   "source": [
    "#code \n",
    "if spam==1:\n",
    "    print(\"Hello\")\n",
    "elif spam==2:\n",
    "    print(\"Howdy\")\n",
    "else:\n",
    "    print(\"Greetings!\")"
   ]
  },
  {
   "cell_type": "markdown",
   "id": "97427d66",
   "metadata": {},
   "source": [
    "# 9.If your programme is stuck in an endless loop, what keys you’ll press?"
   ]
  },
  {
   "cell_type": "markdown",
   "id": "b04a8537",
   "metadata": {},
   "source": [
    "ans:- Press CTRL-C to stop a program stuck in an infinite loop."
   ]
  },
  {
   "cell_type": "markdown",
   "id": "a26cfbbb",
   "metadata": {},
   "source": [
    "# 10. How can you tell the difference between break and continue?"
   ]
  },
  {
   "cell_type": "markdown",
   "id": "61f2c8be",
   "metadata": {},
   "source": [
    "ans:- The break statement terminates a while or for loop completely.\n",
    "and continue statemant, it skips the current iteration and executes the very next iteration in the loop."
   ]
  },
  {
   "cell_type": "markdown",
   "id": "145b275c",
   "metadata": {},
   "source": [
    "# 11. In a for loop, what is the difference between range(10), range(0, 10), and range(0, 10, 1)?"
   ]
  },
  {
   "cell_type": "markdown",
   "id": "2e1876d4",
   "metadata": {},
   "source": [
    "The range() function returns a sequence of numbers, starting from 0 by default, \n",
    "and increments by 1 (by default), and ends at a specified number.\n",
    "range(10) that means starting from 0 by default ends with 9.\n",
    "range(0,10) in this range() function we spacify starting point is 0 and ends with 9.\n",
    "range(0,10,1)  in this range function we spacify starting point is 0 , ends with 9 and increment jump is 1.   "
   ]
  },
  {
   "cell_type": "code",
   "execution_count": 18,
   "id": "4074e974",
   "metadata": {},
   "outputs": [
    {
     "name": "stdout",
     "output_type": "stream",
     "text": [
      "range(10)\n",
      "0\n",
      "1\n",
      "2\n",
      "3\n",
      "4\n",
      "5\n",
      "6\n",
      "7\n",
      "8\n",
      "9\n",
      "********************\n",
      "range(0,10)\n",
      "0\n",
      "1\n",
      "2\n",
      "3\n",
      "4\n",
      "5\n",
      "6\n",
      "7\n",
      "8\n",
      "9\n",
      "********************\n",
      "range(0,10,1)\n",
      "0\n",
      "1\n",
      "2\n",
      "3\n",
      "4\n",
      "5\n",
      "6\n",
      "7\n",
      "8\n",
      "9\n",
      "********************\n"
     ]
    }
   ],
   "source": [
    "print(\"range(10)\")\n",
    "for i in range(10):\n",
    "    print(i)\n",
    "print('*'*20)\n",
    "print(\"range(0,10)\")\n",
    "for i in range(10):\n",
    "    print(i)\n",
    "print('*'*20)\n",
    "print(\"range(0,10,1)\")\n",
    "for i in range(10):\n",
    "    print(i)\n",
    "print('*'*20)\n"
   ]
  },
  {
   "cell_type": "markdown",
   "id": "eb21db3e",
   "metadata": {},
   "source": [
    "# 12. Write a short program that prints the numbers 1 to 10 using a for loop. Then write an equivalent program that prints the numbers 1 to 10 using a while loop."
   ]
  },
  {
   "cell_type": "code",
   "execution_count": 10,
   "id": "16713c82",
   "metadata": {},
   "outputs": [
    {
     "name": "stdout",
     "output_type": "stream",
     "text": [
      "1\n",
      "2\n",
      "3\n",
      "4\n",
      "5\n",
      "6\n",
      "7\n",
      "8\n",
      "9\n",
      "10\n"
     ]
    }
   ],
   "source": [
    "for i in range(1,11):\n",
    "    print(i)"
   ]
  },
  {
   "cell_type": "code",
   "execution_count": 12,
   "id": "1bf574f4",
   "metadata": {},
   "outputs": [
    {
     "name": "stdout",
     "output_type": "stream",
     "text": [
      "1\n",
      "2\n",
      "3\n",
      "4\n",
      "5\n",
      "6\n",
      "7\n",
      "8\n",
      "9\n",
      "10\n"
     ]
    }
   ],
   "source": [
    "i=1\n",
    "while i<11:\n",
    "    print(i)\n",
    "    i=i+1"
   ]
  },
  {
   "cell_type": "markdown",
   "id": "c9c7ec7b",
   "metadata": {},
   "source": [
    "# 13. If you had a function named bacon() inside a module named spam, how would you call it after importing spam?"
   ]
  },
  {
   "cell_type": "markdown",
   "id": "3ab488ca",
   "metadata": {},
   "source": [
    "This function can be called with spam.bacon()"
   ]
  },
  {
   "cell_type": "code",
   "execution_count": null,
   "id": "adff1331",
   "metadata": {},
   "outputs": [],
   "source": []
  }
 ],
 "metadata": {
  "kernelspec": {
   "display_name": "Python 3 (ipykernel)",
   "language": "python",
   "name": "python3"
  },
  "language_info": {
   "codemirror_mode": {
    "name": "ipython",
    "version": 3
   },
   "file_extension": ".py",
   "mimetype": "text/x-python",
   "name": "python",
   "nbconvert_exporter": "python",
   "pygments_lexer": "ipython3",
   "version": "3.9.12"
  }
 },
 "nbformat": 4,
 "nbformat_minor": 5
}
