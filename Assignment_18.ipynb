{
 "cells": [
  {
   "cell_type": "markdown",
   "id": "ac16b70d",
   "metadata": {},
   "source": [
    "# 1. Create a zoo.py file first. Define the hours() function, which prints the string \"Open 9-5 daily\". Then, use the interactive interpreter to import the zoo module and call its hours() function."
   ]
  },
  {
   "cell_type": "code",
   "execution_count": null,
   "id": "6d7e580e",
   "metadata": {},
   "outputs": [],
   "source": [
    "def hours():\n",
    "    print(\"Open 9-5 daily\")"
   ]
  },
  {
   "cell_type": "code",
   "execution_count": 11,
   "id": "5e2a7328",
   "metadata": {},
   "outputs": [
    {
     "name": "stdout",
     "output_type": "stream",
     "text": [
      "Open 9-5 daily\n"
     ]
    }
   ],
   "source": [
    "import zoo\n",
    "zoo.hours()\n"
   ]
  },
  {
   "cell_type": "code",
   "execution_count": 9,
   "id": "17b4bd67",
   "metadata": {},
   "outputs": [],
   "source": []
  },
  {
   "cell_type": "markdown",
   "id": "2392decf",
   "metadata": {},
   "source": [
    "# 2. In the interactive interpreter, import the zoo module as menagerie and call its hours() function."
   ]
  },
  {
   "cell_type": "code",
   "execution_count": 12,
   "id": "7a518fca",
   "metadata": {},
   "outputs": [
    {
     "name": "stdout",
     "output_type": "stream",
     "text": [
      "Open 9-5 daily\n"
     ]
    }
   ],
   "source": [
    "import zoo as menagerie\n",
    "menagerie.hours()"
   ]
  },
  {
   "cell_type": "markdown",
   "id": "d7f10238",
   "metadata": {},
   "source": [
    "# 3. Using the interpreter, explicitly import and call the hours() function from zoo."
   ]
  },
  {
   "cell_type": "code",
   "execution_count": 14,
   "id": "da8e46d4",
   "metadata": {},
   "outputs": [
    {
     "name": "stdout",
     "output_type": "stream",
     "text": [
      "Open 9-5 daily\n"
     ]
    }
   ],
   "source": [
    "from zoo import hours\n",
    "hours()"
   ]
  },
  {
   "cell_type": "markdown",
   "id": "040c32b4",
   "metadata": {},
   "source": [
    "# 4. Import the hours() function as info and call it."
   ]
  },
  {
   "cell_type": "code",
   "execution_count": 15,
   "id": "47d7aa5c",
   "metadata": {},
   "outputs": [
    {
     "name": "stdout",
     "output_type": "stream",
     "text": [
      "Open 9-5 daily\n"
     ]
    }
   ],
   "source": [
    "from zoo import hours as info\n",
    "info()"
   ]
  },
  {
   "cell_type": "markdown",
   "id": "37bf2fb3",
   "metadata": {},
   "source": [
    "# 5. Create a plain dictionary with the key-value pairs \"a\": 1, \"b\": 2, and \"c\":3, and print it out."
   ]
  },
  {
   "cell_type": "code",
   "execution_count": 16,
   "id": "b2278132",
   "metadata": {},
   "outputs": [
    {
     "name": "stdout",
     "output_type": "stream",
     "text": [
      "{'a': 1, 'b': 2, 'c': 3}\n"
     ]
    }
   ],
   "source": [
    "my_dict = {\"a\": 1, \"b\": 2, \"c\": 3}\n",
    "print(my_dict)"
   ]
  },
  {
   "cell_type": "markdown",
   "id": "cb188109",
   "metadata": {},
   "source": [
    "# 6.Make an OrderedDict called fancy from the same pairs listed in 5 and print it. Did it print in the same order as plain?"
   ]
  },
  {
   "cell_type": "code",
   "execution_count": 17,
   "id": "e9b28404",
   "metadata": {},
   "outputs": [
    {
     "name": "stdout",
     "output_type": "stream",
     "text": [
      "OrderedDict([('a', 1), ('b', 2), ('c', 3)])\n"
     ]
    }
   ],
   "source": [
    "from collections import OrderedDict\n",
    "\n",
    "fancy = OrderedDict([('a', 1), ('b', 2), ('c', 3)])\n",
    "print(fancy)"
   ]
  },
  {
   "cell_type": "markdown",
   "id": "10c959b8",
   "metadata": {},
   "source": [
    "# 7. Make a default dictionary called dict_of_lists and pass it the argument list. Make the list dict_of_lists[\"a\"] and append the value \"something for a\" to it in one assignment. Print dict_of_lists[\"a\"]."
   ]
  },
  {
   "cell_type": "code",
   "execution_count": 18,
   "id": "bc17eb87",
   "metadata": {},
   "outputs": [
    {
     "name": "stdout",
     "output_type": "stream",
     "text": [
      "['something for a']\n"
     ]
    }
   ],
   "source": [
    "from collections import defaultdict\n",
    "\n",
    "dict_of_lists = defaultdict(list)\n",
    "dict_of_lists[\"a\"].append(\"something for a\")\n",
    "print(dict_of_lists[\"a\"])"
   ]
  },
  {
   "cell_type": "code",
   "execution_count": null,
   "id": "23076fd1",
   "metadata": {},
   "outputs": [],
   "source": []
  }
 ],
 "metadata": {
  "kernelspec": {
   "display_name": "Python 3 (ipykernel)",
   "language": "python",
   "name": "python3"
  },
  "language_info": {
   "codemirror_mode": {
    "name": "ipython",
    "version": 3
   },
   "file_extension": ".py",
   "mimetype": "text/x-python",
   "name": "python",
   "nbconvert_exporter": "python",
   "pygments_lexer": "ipython3",
   "version": "3.9.12"
  }
 },
 "nbformat": 4,
 "nbformat_minor": 5
}
