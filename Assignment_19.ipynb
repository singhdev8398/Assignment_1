{
 "cells": [
  {
   "cell_type": "markdown",
   "id": "db491f8c",
   "metadata": {},
   "source": [
    "# 1. Make a class called Thing with no contents and print it. Then, create an object called example from this class and also print it. Are the printed values the same or different?"
   ]
  },
  {
   "cell_type": "code",
   "execution_count": 2,
   "id": "9d8239dd",
   "metadata": {},
   "outputs": [
    {
     "name": "stdout",
     "output_type": "stream",
     "text": [
      "<__main__.Thing object at 0x00000254BB23D430>\n",
      "<__main__.Thing object at 0x00000254B9F12910>\n"
     ]
    }
   ],
   "source": [
    "class Thing:\n",
    "    pass\n",
    "\n",
    "print(Thing())\n",
    "\n",
    "example = Thing()\n",
    "print(example)\n",
    "    "
   ]
  },
  {
   "cell_type": "markdown",
   "id": "a20b1fa1",
   "metadata": {},
   "source": [
    "# 2. Create a new class called Thing2 and add the value \"abc\" to the letters class attribute. Letters should be printed."
   ]
  },
  {
   "cell_type": "code",
   "execution_count": 3,
   "id": "aadcca6a",
   "metadata": {},
   "outputs": [
    {
     "name": "stdout",
     "output_type": "stream",
     "text": [
      "xyzabc\n"
     ]
    }
   ],
   "source": [
    "class Thing2:\n",
    "    letters = \"xyz\"\n",
    "\n",
    "Thing2.letters += \"abc\"\n",
    "print(Thing2.letters)\n",
    "    "
   ]
  },
  {
   "cell_type": "markdown",
   "id": "edbaa9a9",
   "metadata": {},
   "source": [
    "# 3. Make yet another class called, of course, Thing3. This time, assign the value \"xyz\" to an instance (object) attribute called letters. Print letters. Do you need to make an object from the class to do this?"
   ]
  },
  {
   "cell_type": "code",
   "execution_count": 6,
   "id": "d0288141",
   "metadata": {},
   "outputs": [
    {
     "name": "stdout",
     "output_type": "stream",
     "text": [
      "xyz\n"
     ]
    }
   ],
   "source": [
    "class Thing3:\n",
    "    def __init__(self):\n",
    "        self.letters=\"xyz\"\n",
    "example = Thing3()\n",
    "print(example.letters)        \n",
    "    "
   ]
  },
  {
   "cell_type": "markdown",
   "id": "93c8ab7d",
   "metadata": {},
   "source": [
    "# 4. Create an Element class with the instance attributes name, symbol, and number. Create a class object with the values \"Hydrogen\", \"H,\" and 1."
   ]
  },
  {
   "cell_type": "code",
   "execution_count": 9,
   "id": "bc98fdf4",
   "metadata": {},
   "outputs": [
    {
     "name": "stdout",
     "output_type": "stream",
     "text": [
      "<__main__.Element object at 0x00000254BB12EE50>\n"
     ]
    }
   ],
   "source": [
    "class Element:\n",
    "    def __init__(self, name, symbol, number):\n",
    "        self.name = name\n",
    "        self.symbol = symbol\n",
    "        self.number = number\n",
    "\n",
    "hydrogen = Element(\"Hydrogen\", \"H\", 1)\n",
    "        \n",
    "        "
   ]
  },
  {
   "cell_type": "markdown",
   "id": "5e990c8d",
   "metadata": {},
   "source": [
    "# 5. Make a dictionary with these keys and values: \"name\":\"Hydrogen\", \"symbol\":\"H\",\"number\":1. Then, create an object called hydrogen from class Element using this dictionary."
   ]
  },
  {
   "cell_type": "code",
   "execution_count": 10,
   "id": "56bce379",
   "metadata": {},
   "outputs": [],
   "source": [
    "element_dict = {\"name\": \"Hydrogen\", \"symbol\": \"H\", \"number\": 1}\n",
    "\n",
    "hydrogen = Element(**element_dict)"
   ]
  },
  {
   "cell_type": "markdown",
   "id": "5efa8dc3",
   "metadata": {},
   "source": [
    "# 6. For the Element class, define a method called dump() that prints the values of the object’s attributes (name, symbol, and number). Create the hydrogen object from this new definition and use dump() to print its attributes."
   ]
  },
  {
   "cell_type": "code",
   "execution_count": 11,
   "id": "20dd64a0",
   "metadata": {},
   "outputs": [
    {
     "name": "stdout",
     "output_type": "stream",
     "text": [
      "Name:  Hydrogen\n",
      "Symbol:  H\n",
      "Number:  1\n"
     ]
    }
   ],
   "source": [
    "class Element:\n",
    "    def __init__(self, name, symbol, number):\n",
    "        self.name = name\n",
    "        self.symbol = symbol\n",
    "        self.number = number\n",
    "        \n",
    "    def dump(self):\n",
    "        print(\"Name: \", self.name)\n",
    "        print(\"Symbol: \", self.symbol)\n",
    "        print(\"Number: \", self.number)\n",
    "\n",
    "hydrogen = Element(\"Hydrogen\", \"H\", 1)\n",
    "hydrogen.dump()"
   ]
  },
  {
   "cell_type": "markdown",
   "id": "992aa839",
   "metadata": {},
   "source": [
    "# 7. Call print(hydrogen). In the definition of Element, change the name of method dump to __str__, create a new hydrogen object, and call print(hydrogen) again."
   ]
  },
  {
   "cell_type": "code",
   "execution_count": 12,
   "id": "ab1968fa",
   "metadata": {},
   "outputs": [
    {
     "name": "stdout",
     "output_type": "stream",
     "text": [
      "Name: Hydrogen, Symbol: H, Number: 1\n",
      "Name: Hydrogen2, Symbol: H2, Number: 2\n"
     ]
    }
   ],
   "source": [
    "class Element:\n",
    "    def __init__(self, name, symbol, number):\n",
    "        self.name = name\n",
    "        self.symbol = symbol\n",
    "        self.number = number\n",
    "        \n",
    "    def __str__(self):\n",
    "        return f\"Name: {self.name}, Symbol: {self.symbol}, Number: {self.number}\"\n",
    "\n",
    "hydrogen = Element(\"Hydrogen\", \"H\", 1)\n",
    "print(hydrogen)\n",
    "\n",
    "hydrogen2 = Element(\"Hydrogen2\", \"H2\", 2)\n",
    "print(hydrogen2)"
   ]
  },
  {
   "cell_type": "markdown",
   "id": "63878161",
   "metadata": {},
   "source": [
    "# 8. Modify Element to make the attributes name, symbol, and number private. Define a getter property for each to return its value."
   ]
  },
  {
   "cell_type": "code",
   "execution_count": 13,
   "id": "48df5ef8",
   "metadata": {},
   "outputs": [],
   "source": [
    "class Element:\n",
    "    def __init__(self, name, symbol, number):\n",
    "        self.__name = name\n",
    "        self.__symbol = symbol\n",
    "        self.__number = number\n",
    "    \n",
    "    @property\n",
    "    def name(self):\n",
    "        return self.__name\n",
    "    \n",
    "    @property\n",
    "    def symbol(self):\n",
    "        return self.__symbol\n",
    "    \n",
    "    @property\n",
    "    def number(self):\n",
    "        return self.__number"
   ]
  },
  {
   "cell_type": "code",
   "execution_count": 16,
   "id": "44b89afc",
   "metadata": {},
   "outputs": [
    {
     "name": "stdout",
     "output_type": "stream",
     "text": [
      "Hydrogen\n",
      "H\n",
      "1\n"
     ]
    }
   ],
   "source": [
    "hydrogen = Element(\"Hydrogen\", \"H\", 1)\n",
    "print(hydrogen.name)   \n",
    "print(hydrogen.symbol) \n",
    "print(hydrogen.number) \n"
   ]
  },
  {
   "cell_type": "markdown",
   "id": "710b776f",
   "metadata": {},
   "source": [
    "# 9. Define three classes: Bear, Rabbit, and Octothorpe. For each, define only one method: eats(). This should return \"berries\" (Bear),\"clover\" (Rabbit), or \"campers\" (Octothorpe). Create one object from each and print what it eats."
   ]
  },
  {
   "cell_type": "code",
   "execution_count": 19,
   "id": "29de604a",
   "metadata": {},
   "outputs": [],
   "source": [
    "class Bear:\n",
    "    def eats(self):\n",
    "        return \"berries\"\n",
    "\n",
    "class Rabbit:\n",
    "    def eats(self):\n",
    "        return \"clover\"\n",
    "\n",
    "class Octothorpe:\n",
    "    def eats(self):\n",
    "        return \"campers\""
   ]
  },
  {
   "cell_type": "code",
   "execution_count": 20,
   "id": "09666ab3",
   "metadata": {},
   "outputs": [
    {
     "name": "stdout",
     "output_type": "stream",
     "text": [
      "berries\n",
      "clover\n",
      "campers\n"
     ]
    }
   ],
   "source": [
    "bear = Bear()\n",
    "print(bear.eats())  # Output: berries\n",
    "\n",
    "rabbit = Rabbit()\n",
    "print(rabbit.eats())  # Output: clover\n",
    "\n",
    "octo = Octothorpe()\n",
    "print(octo.eats())  # Output: campers"
   ]
  },
  {
   "cell_type": "markdown",
   "id": "4f2db42f",
   "metadata": {},
   "source": [
    "# 10. Define these classes: Laser, Claw, and SmartPhone. Each has only one method: does(). This returns \"disintegrate\" (Laser),\"crush\" (Claw), or \"ring\" (SmartPhone). Then, define the class Robot that has one instance (object) of each of these. Define a does() method for the Robot that prints what its component objects do."
   ]
  },
  {
   "cell_type": "code",
   "execution_count": 21,
   "id": "15f362d1",
   "metadata": {},
   "outputs": [],
   "source": [
    "class Laser:\n",
    "    def does(self):\n",
    "        return \"disintegrate\"\n",
    "\n",
    "class Claw:\n",
    "    def does(self):\n",
    "        return \"crush\"\n",
    "\n",
    "class SmartPhone:\n",
    "    def does(self):\n",
    "        return \"ring\"\n",
    "\n",
    "class Robot:\n",
    "    def __init__(self):\n",
    "        self.laser = Laser()\n",
    "        self.claw = Claw()\n",
    "        self.smartphone = SmartPhone()\n",
    "\n",
    "    def does(self):\n",
    "        print(f\"The robot's laser {self.laser.does()}, the claw {self.claw.does()}, and the smartphone {self.smartphone.does()}.\")\n"
   ]
  },
  {
   "cell_type": "code",
   "execution_count": 22,
   "id": "55176e05",
   "metadata": {},
   "outputs": [
    {
     "name": "stdout",
     "output_type": "stream",
     "text": [
      "The robot's laser disintegrate, the claw crush, and the smartphone ring.\n"
     ]
    }
   ],
   "source": [
    "robot = Robot()\n",
    "robot.does()"
   ]
  },
  {
   "cell_type": "code",
   "execution_count": null,
   "id": "d5d75f5b",
   "metadata": {},
   "outputs": [],
   "source": []
  }
 ],
 "metadata": {
  "kernelspec": {
   "display_name": "Python 3 (ipykernel)",
   "language": "python",
   "name": "python3"
  },
  "language_info": {
   "codemirror_mode": {
    "name": "ipython",
    "version": 3
   },
   "file_extension": ".py",
   "mimetype": "text/x-python",
   "name": "python",
   "nbconvert_exporter": "python",
   "pygments_lexer": "ipython3",
   "version": "3.9.12"
  }
 },
 "nbformat": 4,
 "nbformat_minor": 5
}
