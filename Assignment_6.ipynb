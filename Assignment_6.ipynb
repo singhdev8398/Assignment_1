{
 "cells": [
  {
   "cell_type": "markdown",
   "id": "f19f45b3",
   "metadata": {},
   "source": [
    "# 1. What are escape characters, and how do you use them?"
   ]
  },
  {
   "cell_type": "markdown",
   "id": "56c42ec5",
   "metadata": {},
   "source": [
    "ans:- Escape characters represent characters in string values that would otherwise be difficult or impossible to type into code"
   ]
  },
  {
   "cell_type": "markdown",
   "id": "9c9d4fbb",
   "metadata": {},
   "source": [
    "# 2. What do the escape characters n and t stand for?"
   ]
  },
  {
   "cell_type": "markdown",
   "id": "66022bc8",
   "metadata": {},
   "source": [
    "ans:-   \\n is a newline; \\t is a tab"
   ]
  },
  {
   "cell_type": "markdown",
   "id": "ac001633",
   "metadata": {},
   "source": [
    "# 3. What is the way to include backslash characters in a string?"
   ]
  },
  {
   "cell_type": "markdown",
   "id": "9e3c6542",
   "metadata": {},
   "source": [
    "ans- The \\\\ escape character will represent a backslash character."
   ]
  },
  {
   "cell_type": "markdown",
   "id": "a86eaba4",
   "metadata": {},
   "source": [
    "# 4. The string \"Howl's Moving Castle\" is a correct value. Why isn't the single quote character in the word Howl's not escaped a problem?"
   ]
  },
  {
   "cell_type": "markdown",
   "id": "8f709a4c",
   "metadata": {},
   "source": [
    "ans:- The single quote in Howl's is fine because you've used double quotes to mark the beginning and end of the string."
   ]
  },
  {
   "cell_type": "markdown",
   "id": "a553e7a3",
   "metadata": {},
   "source": [
    "# 5. How do you write a string of newlines if you don't want to use the n character?"
   ]
  },
  {
   "cell_type": "markdown",
   "id": "3cdda5df",
   "metadata": {},
   "source": [
    "ans:- Multiline strings allow you to use newlines in strings without the \\n escape character."
   ]
  },
  {
   "cell_type": "markdown",
   "id": "f5344f88",
   "metadata": {},
   "source": [
    "# 6. What are the values of the given expressions?"
   ]
  },
  {
   "cell_type": "markdown",
   "id": "3895c680",
   "metadata": {},
   "source": [
    " 'Hello, world!'[1]"
   ]
  },
  {
   "cell_type": "markdown",
   "id": "7ee73d9d",
   "metadata": {},
   "source": [
    " 'Hello, world!'[0:5]"
   ]
  },
  {
   "cell_type": "markdown",
   "id": "0f9c6b38",
   "metadata": {},
   "source": [
    "'Hello, world!'[:5]"
   ]
  },
  {
   "cell_type": "markdown",
   "id": "a04108cb",
   "metadata": {},
   "source": [
    "'Hello, world!'[3:]"
   ]
  },
  {
   "cell_type": "markdown",
   "id": "f01a367f",
   "metadata": {},
   "source": [
    "ans:- \n",
    "    1. 'e'\n",
    "    \n",
    "    \n",
    "    2. 'Hello'\n",
    "    \n",
    "    \n",
    "    3. 'Hello'\n",
    "    \n",
    "    4. 'lo world!'"
   ]
  },
  {
   "cell_type": "markdown",
   "id": "fb3fa418",
   "metadata": {},
   "source": [
    "# 7. What are the values of the following expressions?"
   ]
  },
  {
   "cell_type": "markdown",
   "id": "59ebbc82",
   "metadata": {},
   "source": [
    "'Hello'.upper()\n",
    "\n",
    "'Hello'.upper().isupper()\n",
    "\n",
    "'Hello'.upper().lower()"
   ]
  },
  {
   "cell_type": "markdown",
   "id": "31590061",
   "metadata": {},
   "source": [
    "ans:-\n",
    "    1. 'HELLO'\n",
    "    \n",
    "    2. True\n",
    "    \n",
    "    3. 'hello'"
   ]
  },
  {
   "cell_type": "markdown",
   "id": "bc365729",
   "metadata": {},
   "source": [
    "# 8. What are the values of the following expressions?"
   ]
  },
  {
   "cell_type": "markdown",
   "id": "96e4e506",
   "metadata": {},
   "source": [
    "'Remember, remember, the fifth of November.'.split()\n",
    "\n",
    "'-'.join('There can be only one.'.split())"
   ]
  },
  {
   "cell_type": "markdown",
   "id": "d8d6b65d",
   "metadata": {},
   "source": [
    "ans- 1. ['Remember,', 'remember,', 'the', 'fifth', 'of', 'November.']\n",
    "\n",
    "2. 'There-can-be-only-one."
   ]
  },
  {
   "cell_type": "markdown",
   "id": "002b4a36",
   "metadata": {},
   "source": [
    "# 9. What are the methods for right-justifying, left-justifying, and centering a string?"
   ]
  },
  {
   "cell_type": "markdown",
   "id": "8507c130",
   "metadata": {},
   "source": [
    "ans:- The rjust(), ljust(), and center() string methods, respectively"
   ]
  },
  {
   "cell_type": "markdown",
   "id": "ba841dd4",
   "metadata": {},
   "source": [
    "# 10. What is the best way to remove whitespace characters from the start or end?"
   ]
  },
  {
   "cell_type": "markdown",
   "id": "f53519c2",
   "metadata": {},
   "source": [
    "ans:- The lstrip() and rstrip() methods remove whitespace from the left and right ends of a string, respectively."
   ]
  },
  {
   "cell_type": "code",
   "execution_count": null,
   "id": "5049a0c9",
   "metadata": {},
   "outputs": [],
   "source": []
  }
 ],
 "metadata": {
  "kernelspec": {
   "display_name": "Python 3 (ipykernel)",
   "language": "python",
   "name": "python3"
  },
  "language_info": {
   "codemirror_mode": {
    "name": "ipython",
    "version": 3
   },
   "file_extension": ".py",
   "mimetype": "text/x-python",
   "name": "python",
   "nbconvert_exporter": "python",
   "pygments_lexer": "ipython3",
   "version": "3.9.12"
  }
 },
 "nbformat": 4,
 "nbformat_minor": 5
}
