{
 "cells": [
  {
   "cell_type": "markdown",
   "id": "4a518d51",
   "metadata": {},
   "source": [
    "# Question 1 -\n",
    "What is the result of the code, and explain?\n",
    "\n",
    "X = 'iNeuron'\n",
    "\n",
    "def func():\n",
    "\n",
    "print(X)\n",
    "\n",
    "func()"
   ]
  },
  {
   "cell_type": "markdown",
   "id": "52080928",
   "metadata": {},
   "source": [
    "# Ans-\n",
    "The line, func() Call the function we defined which prints the value of X."
   ]
  },
  {
   "cell_type": "code",
   "execution_count": 1,
   "id": "9b7d5333",
   "metadata": {},
   "outputs": [],
   "source": [
    "X = 'iNeuron'\n",
    "def func():\n",
    "    print (X)"
   ]
  },
  {
   "cell_type": "code",
   "execution_count": 2,
   "id": "f23cdab0",
   "metadata": {},
   "outputs": [
    {
     "name": "stdout",
     "output_type": "stream",
     "text": [
      "iNeuron\n"
     ]
    }
   ],
   "source": [
    "func()"
   ]
  },
  {
   "cell_type": "markdown",
   "id": "0189e0a4",
   "metadata": {},
   "source": [
    "# Question 2 -\n",
    "What is the result of the code, and explain?\n",
    "\n",
    "X = 'iNeuron'\n",
    "\n",
    "def func():\n",
    "\n",
    "X = 'NI!'\n",
    "\n",
    "func()\n",
    "\n",
    "print(X)"
   ]
  },
  {
   "cell_type": "markdown",
   "id": "915a0366",
   "metadata": {},
   "source": [
    "# Ans-\n",
    "The line, func() Call the function we defined, with \"NI\" as the value of X inside the funtion, that is the local variable so we can not call the local varible outside.\n",
    "\n",
    "The line, print(X), prints the value of X, which is \"iNeuron\", which is outside func() because of x=\"iNeuron\" is the globle variable\n"
   ]
  },
  {
   "cell_type": "code",
   "execution_count": 4,
   "id": "5386ab40",
   "metadata": {},
   "outputs": [],
   "source": [
    "X = 'iNeuron'\n",
    "def func():\n",
    "    X = 'NI!'\n",
    "func()"
   ]
  },
  {
   "cell_type": "code",
   "execution_count": 5,
   "id": "b1131e50",
   "metadata": {},
   "outputs": [
    {
     "name": "stdout",
     "output_type": "stream",
     "text": [
      "iNeuron\n"
     ]
    }
   ],
   "source": [
    "print(X)"
   ]
  },
  {
   "cell_type": "markdown",
   "id": "f6aba953",
   "metadata": {},
   "source": [
    "# Question 3-\n",
    "What does this code print, and why?\n",
    "\n",
    "X = 'iNeuron'\n",
    "\n",
    "def func():\n",
    "\n",
    "X = 'NI'\n",
    "\n",
    "print(X)\n",
    "\n",
    "func()\n",
    "\n",
    "print(X)"
   ]
  },
  {
   "cell_type": "markdown",
   "id": "7ff382ff",
   "metadata": {},
   "source": [
    "# Answer -\n",
    "The line, func() Call the function we defined which prints the value of X, which is \"NI\" inside the funtion.\n",
    "\n",
    "The line, print(X), prints the value of X, which is \"iNeuron\", which is outside func()."
   ]
  },
  {
   "cell_type": "code",
   "execution_count": 6,
   "id": "1cbfb543",
   "metadata": {},
   "outputs": [
    {
     "name": "stdout",
     "output_type": "stream",
     "text": [
      "NI\n"
     ]
    }
   ],
   "source": [
    "X = 'iNeuron'\n",
    "def func():\n",
    "    X = 'NI'\n",
    "    print(X)\n",
    "func()"
   ]
  },
  {
   "cell_type": "code",
   "execution_count": 7,
   "id": "e9c2d486",
   "metadata": {},
   "outputs": [
    {
     "name": "stdout",
     "output_type": "stream",
     "text": [
      "iNeuron\n"
     ]
    }
   ],
   "source": [
    "print(X)"
   ]
  },
  {
   "cell_type": "markdown",
   "id": "f6d414b9",
   "metadata": {},
   "source": [
    "# Question 4-\n",
    "What output does this code produce? Why?\n",
    "\n",
    "X = 'iNeuron'\n",
    "\n",
    "def func():\n",
    "\n",
    "global X\n",
    "\n",
    "X = 'NI'\n",
    "\n",
    "func()\n",
    "\n",
    "print(X)"
   ]
  },
  {
   "cell_type": "markdown",
   "id": "42c0bebe",
   "metadata": {},
   "source": [
    "# Ans-\n",
    "The line, func() Call the function we defined, with \"NI\" as the value of X inside the funtion, but doesn't prints it, as there is no print statement inside the function, and we have used global keyword, which means, global keyword allows us to modify the variable, that is \"X\", outside of the current function.\n",
    "\n",
    "The line, print(X), prints the value of X, which is now \"NI\", as we used global keyword inside the function."
   ]
  },
  {
   "cell_type": "code",
   "execution_count": 8,
   "id": "d667255e",
   "metadata": {},
   "outputs": [],
   "source": [
    "X = 'iNeuron'\n",
    "def func():\n",
    "    global X\n",
    "    X = \"NI\"\n",
    "func()"
   ]
  },
  {
   "cell_type": "code",
   "execution_count": 10,
   "id": "f8692c36",
   "metadata": {},
   "outputs": [
    {
     "name": "stdout",
     "output_type": "stream",
     "text": [
      "NI\n"
     ]
    }
   ],
   "source": [
    "print(X)"
   ]
  },
  {
   "cell_type": "markdown",
   "id": "7f83e2a0",
   "metadata": {},
   "source": [
    "# Question 5-\n",
    "X = 'iNeuron'\n",
    "\n",
    "def func():\n",
    "\n",
    "X = 'NI'\n",
    "\n",
    "def nested():\n",
    "\n",
    "print(X)\n",
    "\n",
    "nested()\n",
    "\n",
    "func()\n",
    "\n",
    "X"
   ]
  },
  {
   "cell_type": "code",
   "execution_count": 11,
   "id": "3bdf5cb7",
   "metadata": {},
   "outputs": [
    {
     "name": "stdout",
     "output_type": "stream",
     "text": [
      "iNeuron\n"
     ]
    }
   ],
   "source": [
    "X = 'iNeuron'\n",
    "def func():\n",
    "    X = \"NI\"\n",
    "def nested():\n",
    "    print(X)\n",
    "nested()"
   ]
  },
  {
   "cell_type": "code",
   "execution_count": 12,
   "id": "4425e2a7",
   "metadata": {},
   "outputs": [],
   "source": [
    "func()"
   ]
  },
  {
   "cell_type": "code",
   "execution_count": 13,
   "id": "cf74875c",
   "metadata": {},
   "outputs": [
    {
     "data": {
      "text/plain": [
       "'iNeuron'"
      ]
     },
     "execution_count": 13,
     "metadata": {},
     "output_type": "execute_result"
    }
   ],
   "source": [
    "X"
   ]
  },
  {
   "cell_type": "markdown",
   "id": "dbc95e4d",
   "metadata": {},
   "source": [
    "# Question 6 -\n",
    "def func():\n",
    "\n",
    "X = 'NI'\n",
    "\n",
    "def nested():\n",
    "\n",
    "nonlocal X\n",
    "\n",
    "X = 'Spam'\n",
    "\n",
    "nested()\n",
    "\n",
    "print(X)\n",
    "\n",
    "func()"
   ]
  },
  {
   "cell_type": "markdown",
   "id": "385da51c",
   "metadata": {},
   "source": [
    "# Ans-\n",
    "The nonlocal keyword is used to work with variables inside nested functions, where the variable should not belong to the inner function.Use the keyword nonlocal to declare that the variable is not local."
   ]
  },
  {
   "cell_type": "code",
   "execution_count": 14,
   "id": "29cff88d",
   "metadata": {},
   "outputs": [],
   "source": [
    "def func():\n",
    "    X = 'NI'\n",
    "    def nested():\n",
    "        nonlocal X\n",
    "        X = 'Spam'\n",
    "    nested()"
   ]
  },
  {
   "cell_type": "code",
   "execution_count": 15,
   "id": "f13ac819",
   "metadata": {},
   "outputs": [
    {
     "name": "stdout",
     "output_type": "stream",
     "text": [
      "iNeuron\n"
     ]
    }
   ],
   "source": [
    "print(X)"
   ]
  },
  {
   "cell_type": "code",
   "execution_count": null,
   "id": "52418df4",
   "metadata": {},
   "outputs": [],
   "source": []
  },
  {
   "cell_type": "code",
   "execution_count": null,
   "id": "d38dc28b",
   "metadata": {},
   "outputs": [],
   "source": []
  },
  {
   "cell_type": "code",
   "execution_count": null,
   "id": "34e74e3f",
   "metadata": {},
   "outputs": [],
   "source": []
  }
 ],
 "metadata": {
  "kernelspec": {
   "display_name": "Python 3 (ipykernel)",
   "language": "python",
   "name": "python3"
  },
  "language_info": {
   "codemirror_mode": {
    "name": "ipython",
    "version": 3
   },
   "file_extension": ".py",
   "mimetype": "text/x-python",
   "name": "python",
   "nbconvert_exporter": "python",
   "pygments_lexer": "ipython3",
   "version": "3.10.9"
  }
 },
 "nbformat": 4,
 "nbformat_minor": 5
}
