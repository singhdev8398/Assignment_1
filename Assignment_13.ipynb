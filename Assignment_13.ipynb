{
 "cells": [
  {
   "cell_type": "markdown",
   "id": "10b0eea5",
   "metadata": {},
   "source": [
    "# 1. What advantages do Excel spreadsheets have over CSV spreadsheets?"
   ]
  },
  {
   "cell_type": "markdown",
   "id": "e4d55e60",
   "metadata": {},
   "source": [
    "ans:- Excel is more superior when compared with the CSV file format; thus, CSV consumes less amount of file size when the user is importing data; it is a much faster format compared to excel. "
   ]
  },
  {
   "cell_type": "markdown",
   "id": "f1e90dbf",
   "metadata": {},
   "source": [
    "# 2.What do you pass to csv.reader() and csv.writer() to create reader and writer objects?"
   ]
  },
  {
   "cell_type": "markdown",
   "id": "07e261e9",
   "metadata": {},
   "source": [
    "ans:- \n",
    "    To read a CSV file in Python, we can use the csv.reader() function.\n",
    "    \n",
    "    To write to a CSV file in Python, we can use the csv.writer() function."
   ]
  },
  {
   "cell_type": "markdown",
   "id": "e4a55a8f",
   "metadata": {},
   "source": [
    "# 3. What modes do File objects for reader and writer objects need to be opened in?"
   ]
  },
  {
   "cell_type": "markdown",
   "id": "681702e1",
   "metadata": {},
   "source": [
    "ans: Read and Write ('r+'): This method opens the file for both reading and writing. The start of the file is where the handle is located. If the file does not exist, an I/O error gets raised. Write Only ('w'): This mode opens the file for writing only."
   ]
  },
  {
   "cell_type": "markdown",
   "id": "37f01a85",
   "metadata": {},
   "source": [
    "# 4. What method takes a list argument and writes it to a CSV file?"
   ]
  },
  {
   "cell_type": "markdown",
   "id": "710c2497",
   "metadata": {},
   "source": [
    "Ans:- \n",
    "\n",
    "writerows()\n",
    "\n",
    "This function takes a list of iterables as parameter and writes each item as a comma separated line of items in the file"
   ]
  },
  {
   "cell_type": "markdown",
   "id": "205fe4ef",
   "metadata": {},
   "source": [
    "# 5. What do the keyword arguments delimiter and line terminator do?"
   ]
  },
  {
   "cell_type": "markdown",
   "id": "c554b55d",
   "metadata": {},
   "source": [
    "ans:- This changes the delimiter and line terminator characters in your file. The delimiter is the character that appears between cells on a row. By default, the delimiter for a CSV file is a comma. The line terminator is the character that comes at the end of a row. "
   ]
  },
  {
   "cell_type": "markdown",
   "id": "fdacb4b8",
   "metadata": {},
   "source": [
    "# 6. What function takes a string of JSON data and returns a Python data structure?"
   ]
  },
  {
   "cell_type": "markdown",
   "id": "ed8149b3",
   "metadata": {},
   "source": [
    "and:- loads() method return Python data structure of JSON string or data."
   ]
  },
  {
   "cell_type": "markdown",
   "id": "7d2e2b47",
   "metadata": {},
   "source": [
    "# 7. What function takes a Python data structure and returns a string of JSON data?"
   ]
  },
  {
   "cell_type": "markdown",
   "id": "f6432d87",
   "metadata": {},
   "source": [
    "ans:- Use the jsonify() method to return a JSON string object."
   ]
  },
  {
   "cell_type": "code",
   "execution_count": null,
   "id": "491028ae",
   "metadata": {},
   "outputs": [],
   "source": []
  }
 ],
 "metadata": {
  "kernelspec": {
   "display_name": "Python 3 (ipykernel)",
   "language": "python",
   "name": "python3"
  },
  "language_info": {
   "codemirror_mode": {
    "name": "ipython",
    "version": 3
   },
   "file_extension": ".py",
   "mimetype": "text/x-python",
   "name": "python",
   "nbconvert_exporter": "python",
   "pygments_lexer": "ipython3",
   "version": "3.9.12"
  }
 },
 "nbformat": 4,
 "nbformat_minor": 5
}
