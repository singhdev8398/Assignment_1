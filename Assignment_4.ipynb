{
 "cells": [
  {
   "cell_type": "markdown",
   "id": "51026bf7",
   "metadata": {},
   "source": [
    "# 1. What exactly is [  ]?"
   ]
  },
  {
   "cell_type": "markdown",
   "id": "b95f3007",
   "metadata": {},
   "source": [
    "Ans:- [ ] is the empty list"
   ]
  },
  {
   "cell_type": "markdown",
   "id": "2c433a51",
   "metadata": {},
   "source": [
    "# 2. In a list of values stored in a variable called spam, how would you assign the value 'hello' as the third value? (Assume [2, 4, 6, 8, 10] are in spam.)."
   ]
  },
  {
   "cell_type": "markdown",
   "id": "1857b93b",
   "metadata": {},
   "source": [
    "Ans:- let spam=[2,4,6,8,10] , here spam is a variable, now we want to assign the value \"hello\" as the third value.\n",
    "    we will use the insert( 2,\"hello\" ) method and give the arguments that is the proper way. "
   ]
  },
  {
   "cell_type": "code",
   "execution_count": 9,
   "id": "391d06a5",
   "metadata": {},
   "outputs": [
    {
     "name": "stdout",
     "output_type": "stream",
     "text": [
      "[2, 4, 'hello', 6, 8, 10]\n"
     ]
    }
   ],
   "source": [
    "spam=[2,4,6,8,10]\n",
    "spam.insert(2,\"hello\") \n",
    "print(spam)"
   ]
  },
  {
   "cell_type": "markdown",
   "id": "b4c76d93",
   "metadata": {},
   "source": [
    "# Let's pretend the spam includes the list ['a','b','c','d'] for the next three queries."
   ]
  },
  {
   "cell_type": "markdown",
   "id": "8e05b0ff",
   "metadata": {},
   "source": [
    "# 3. What is the value of spam[int(int('3' * 2) / 11)]?"
   ]
  },
  {
   "cell_type": "markdown",
   "id": "1943d271",
   "metadata": {},
   "source": [
    "Ans:- we include spam=['a','b','c','d'] spam[int(int('3' * 2) / 11)] we access the 'd'"
   ]
  },
  {
   "cell_type": "code",
   "execution_count": 11,
   "id": "126b57d0",
   "metadata": {},
   "outputs": [
    {
     "data": {
      "text/plain": [
       "'d'"
      ]
     },
     "execution_count": 11,
     "metadata": {},
     "output_type": "execute_result"
    }
   ],
   "source": [
    "spam=['a','b','c','d']\n",
    "spam[int(int('3'*2)/11)]"
   ]
  },
  {
   "cell_type": "markdown",
   "id": "b3627502",
   "metadata": {},
   "source": [
    "# 4. What is the value of spam[-1]?"
   ]
  },
  {
   "cell_type": "code",
   "execution_count": 12,
   "id": "8e363f95",
   "metadata": {},
   "outputs": [
    {
     "data": {
      "text/plain": [
       "'d'"
      ]
     },
     "execution_count": 12,
     "metadata": {},
     "output_type": "execute_result"
    }
   ],
   "source": [
    "'d'"
   ]
  },
  {
   "cell_type": "markdown",
   "id": "5abbc7f9",
   "metadata": {},
   "source": [
    "# 5. What is the value of spam[:2]?"
   ]
  },
  {
   "cell_type": "code",
   "execution_count": 14,
   "id": "474254d1",
   "metadata": {},
   "outputs": [
    {
     "data": {
      "text/plain": [
       "['a', 'b']"
      ]
     },
     "execution_count": 14,
     "metadata": {},
     "output_type": "execute_result"
    }
   ],
   "source": [
    "['a','b']"
   ]
  },
  {
   "cell_type": "markdown",
   "id": "3fb6318e",
   "metadata": {},
   "source": [
    "# Let's pretend bacon has the list [3.14, 'cat',11,'cat',True] for the next three questions.\n"
   ]
  },
  {
   "cell_type": "code",
   "execution_count": 15,
   "id": "8bc65194",
   "metadata": {},
   "outputs": [],
   "source": [
    "bacon= [3.14, 'cat',11,'cat',True]"
   ]
  },
  {
   "cell_type": "markdown",
   "id": "18ece22d",
   "metadata": {},
   "source": [
    "# 6. What is the value of bacon.index('cat')?"
   ]
  },
  {
   "cell_type": "markdown",
   "id": "d3b857d1",
   "metadata": {},
   "source": [
    "Ans:- 1"
   ]
  },
  {
   "cell_type": "code",
   "execution_count": 16,
   "id": "00d99cb4",
   "metadata": {},
   "outputs": [
    {
     "data": {
      "text/plain": [
       "1"
      ]
     },
     "execution_count": 16,
     "metadata": {},
     "output_type": "execute_result"
    }
   ],
   "source": [
    "bacon.index('cat')"
   ]
  },
  {
   "cell_type": "markdown",
   "id": "3becdd09",
   "metadata": {},
   "source": [
    "# 7. How does bacon.append(99) change the look of the list value in bacon?"
   ]
  },
  {
   "cell_type": "markdown",
   "id": "23e2b418",
   "metadata": {},
   "source": [
    "Ans:- bacon=[3.14, 'cat',11,'cat',True,99]"
   ]
  },
  {
   "cell_type": "code",
   "execution_count": 21,
   "id": "91c53179",
   "metadata": {},
   "outputs": [
    {
     "data": {
      "text/plain": [
       "[3.14, 'cat', 11, 'cat', True, 99]"
      ]
     },
     "execution_count": 21,
     "metadata": {},
     "output_type": "execute_result"
    }
   ],
   "source": [
    "bacon.append(99)\n",
    "bacon"
   ]
  },
  {
   "cell_type": "markdown",
   "id": "c0675030",
   "metadata": {},
   "source": [
    "# 8. How does bacon.remove('cat') change the look of the list in bacon?"
   ]
  },
  {
   "cell_type": "markdown",
   "id": "c3a2bb61",
   "metadata": {},
   "source": [
    "Ans:- bacon=[3.14, 'cat', 11, 'cat', True, 99]\n",
    "    \n",
    "    bacon.remove('cat') return the [3.14, 11, 'cat', True, 99]"
   ]
  },
  {
   "cell_type": "code",
   "execution_count": 22,
   "id": "c231ea25",
   "metadata": {},
   "outputs": [
    {
     "data": {
      "text/plain": [
       "[3.14, 11, 'cat', True, 99]"
      ]
     },
     "execution_count": 22,
     "metadata": {},
     "output_type": "execute_result"
    }
   ],
   "source": [
    "bacon.remove('cat')\n",
    "bacon"
   ]
  },
  {
   "cell_type": "markdown",
   "id": "661a45e3",
   "metadata": {},
   "source": [
    "# 9. What are the list concatenation and list replication operators?"
   ]
  },
  {
   "cell_type": "markdown",
   "id": "8a3b1ee0",
   "metadata": {},
   "source": [
    "Ans:- The operator for list concatenation is +, while the operator for replication is *."
   ]
  },
  {
   "cell_type": "markdown",
   "id": "acf62a3d",
   "metadata": {},
   "source": [
    "# 10. What is difference between the list methods append() and insert()?"
   ]
  },
  {
   "cell_type": "markdown",
   "id": "e3538474",
   "metadata": {},
   "source": [
    "And:-  append() adds an item to the end of a list, whereas . insert() inserts and item in a specified position in the list. "
   ]
  },
  {
   "cell_type": "markdown",
   "id": "0cf9abb0",
   "metadata": {},
   "source": [
    "# 11. What are the two methods for removing items from a list?"
   ]
  },
  {
   "cell_type": "markdown",
   "id": "cfc0de0f",
   "metadata": {},
   "source": [
    "Ans:- (1) pop()\n",
    "       (2) del ()\n",
    "        (3) remove()"
   ]
  },
  {
   "cell_type": "markdown",
   "id": "bd600db8",
   "metadata": {},
   "source": [
    "# 12. Describe how list values and string values are identical."
   ]
  },
  {
   "cell_type": "markdown",
   "id": "d0bbb49e",
   "metadata": {},
   "source": [
    "Ans:-  both are sequences."
   ]
  },
  {
   "cell_type": "markdown",
   "id": "f415074d",
   "metadata": {},
   "source": [
    "# 13. What's the difference between tuples and lists?"
   ]
  },
  {
   "cell_type": "markdown",
   "id": "50b4869e",
   "metadata": {},
   "source": [
    "Ans:- tuple is immutable and list is mutable this is the main difference."
   ]
  },
  {
   "cell_type": "markdown",
   "id": "2ccf299c",
   "metadata": {},
   "source": [
    "# 14. How do you type a tuple value that only contains the integer 42?"
   ]
  },
  {
   "cell_type": "code",
   "execution_count": 24,
   "id": "a87f320c",
   "metadata": {},
   "outputs": [
    {
     "data": {
      "text/plain": [
       "tuple"
      ]
     },
     "execution_count": 24,
     "metadata": {},
     "output_type": "execute_result"
    }
   ],
   "source": [
    "tuple=(42,)\n",
    "type(tuple)"
   ]
  },
  {
   "cell_type": "markdown",
   "id": "c84153c6",
   "metadata": {},
   "source": [
    "# 15. How do you get a list value's tuple form? How do you get a tuple value's list form?"
   ]
  },
  {
   "cell_type": "markdown",
   "id": "635685c3",
   "metadata": {},
   "source": [
    "Ans:- we want to list vales convert into the tuple form by using the tuple()method\n",
    "    for the list we use list() method "
   ]
  },
  {
   "cell_type": "code",
   "execution_count": 29,
   "id": "dffaac28",
   "metadata": {},
   "outputs": [
    {
     "name": "stdout",
     "output_type": "stream",
     "text": [
      "[1, 2, 3, 4, 5, 6, 7]\n"
     ]
    }
   ],
   "source": [
    "#example\n",
    "t=(1,2,3,4,5,6,7)\n",
    "print(list(t))"
   ]
  },
  {
   "cell_type": "code",
   "execution_count": 1,
   "id": "c9e59f40",
   "metadata": {},
   "outputs": [
    {
     "data": {
      "text/plain": [
       "(1, 2, 3)"
      ]
     },
     "execution_count": 1,
     "metadata": {},
     "output_type": "execute_result"
    }
   ],
   "source": [
    "t=tuple([1,2,3])\n",
    "t"
   ]
  },
  {
   "cell_type": "markdown",
   "id": "fb1d2ee9",
   "metadata": {},
   "source": [
    "# 16. Variables that \"contain\" list values are not necessarily lists themselves. Instead, what do they contain?"
   ]
  },
  {
   "cell_type": "markdown",
   "id": "fd83caec",
   "metadata": {},
   "source": [
    "Ans:- They contain references to list values."
   ]
  },
  {
   "cell_type": "markdown",
   "id": "21699399",
   "metadata": {},
   "source": [
    "# 17. How do you distinguish between copy.copy() and copy.deepcopy()?"
   ]
  },
  {
   "cell_type": "markdown",
   "id": "7007201a",
   "metadata": {},
   "source": [
    "Ans:- copy() create reference to original object. If you change copied object - you change the original object. . deepcopy() creates new object and does real copying of original object to new one."
   ]
  },
  {
   "cell_type": "code",
   "execution_count": null,
   "id": "7516d857",
   "metadata": {},
   "outputs": [],
   "source": []
  }
 ],
 "metadata": {
  "kernelspec": {
   "display_name": "Python 3 (ipykernel)",
   "language": "python",
   "name": "python3"
  },
  "language_info": {
   "codemirror_mode": {
    "name": "ipython",
    "version": 3
   },
   "file_extension": ".py",
   "mimetype": "text/x-python",
   "name": "python",
   "nbconvert_exporter": "python",
   "pygments_lexer": "ipython3",
   "version": "3.9.12"
  }
 },
 "nbformat": 4,
 "nbformat_minor": 5
}
