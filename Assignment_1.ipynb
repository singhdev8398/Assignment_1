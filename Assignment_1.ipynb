{
 "cells": [
  {
   "cell_type": "markdown",
   "id": "5c30198b",
   "metadata": {},
   "source": [
    "# 1. In the below elements which of them are values or an expression? eg:- values can be integer or string and expressions will be mathematical operators.\n",
    "*\n",
    "\n",
    "'hello'\n",
    "\n",
    "-87.8\n",
    "\n",
    "-\n",
    "\n",
    "/\n",
    "\n",
    "+\n",
    "\n",
    "6"
   ]
  },
  {
   "cell_type": "markdown",
   "id": "5f0feb68",
   "metadata": {},
   "source": [
    "values-> \n",
    "'hello',-87.8,6\n",
    "mathematical operators->\n",
    "*,-,/,+"
   ]
  },
  {
   "cell_type": "markdown",
   "id": "151bd05a",
   "metadata": {},
   "source": [
    "# 2. What is the difference between string and variable?"
   ]
  },
  {
   "cell_type": "markdown",
   "id": "68520bb8",
   "metadata": {},
   "source": [
    "A Variable is a store of information, and a String is a type of information you would store in a Variable.\n",
    "example- string = \"Ineuron\"\n",
    "but in upper string is a variable and \"Ineuron\" is a sting\n"
   ]
  },
  {
   "cell_type": "markdown",
   "id": "6fe3f034",
   "metadata": {},
   "source": [
    "# 3. Describe three different data types."
   ]
  },
  {
   "cell_type": "markdown",
   "id": "f58b655b",
   "metadata": {},
   "source": [
    "1.Floating Point (float) \n",
    "\n",
    "2.Character (char) \n",
    "\n",
    "3.String (str or text) "
   ]
  },
  {
   "cell_type": "markdown",
   "id": "c398d804",
   "metadata": {},
   "source": [
    "# 4. What is an expression made up of? What do all expressions do?"
   ]
  },
  {
   "cell_type": "markdown",
   "id": "0422cdbf",
   "metadata": {},
   "source": [
    "An expression is a combination of operators and operands that is interpreted to produce some other value."
   ]
  },
  {
   "cell_type": "markdown",
   "id": "f0444827",
   "metadata": {},
   "source": [
    "# 5. This assignment statements, like spam = 10. What is the difference between an expression and a statement?"
   ]
  },
  {
   "cell_type": "markdown",
   "id": "a6316143",
   "metadata": {},
   "source": [
    "An expression evaluates to a single value. A statement does not."
   ]
  },
  {
   "cell_type": "markdown",
   "id": "44160200",
   "metadata": {},
   "source": [
    "# 6. After running the following code, what does the variable bacon contain?bacon = 22 ,bacon + 1"
   ]
  },
  {
   "cell_type": "markdown",
   "id": "25cef6c1",
   "metadata": {},
   "source": [
    "The bacon variable is set to 20. The bacon + 1 expression does not reassign the\n",
    "value in bacon (that would need an assignment statement: bacon = bacon + 1)"
   ]
  },
  {
   "cell_type": "markdown",
   "id": "9b828377",
   "metadata": {},
   "source": [
    "# 7. What should the values of the following two terms be?\n",
    "'spam' +'spamspam'\n",
    "\n",
    "'spam'* 3"
   ]
  },
  {
   "cell_type": "markdown",
   "id": "a7aa22df",
   "metadata": {},
   "source": [
    "Both expressions evaluate to the string 'spamspamspam'"
   ]
  },
  {
   "cell_type": "markdown",
   "id": "3f09048c",
   "metadata": {},
   "source": [
    "# 8. Why is eggs a valid variable name while 100 is invalid?"
   ]
  },
  {
   "cell_type": "markdown",
   "id": "4314f022",
   "metadata": {},
   "source": [
    "Variable names cannot begin with a number."
   ]
  },
  {
   "cell_type": "markdown",
   "id": "7d4f82d4",
   "metadata": {},
   "source": [
    "# 9. What three functions can be used to get the integer, floating-point number, or string version of a value?"
   ]
  },
  {
   "cell_type": "markdown",
   "id": "caa5d2ac",
   "metadata": {},
   "source": [
    "The int(), float(), and str() functions will evaluate to the integer, \n",
    "floating-point number, and string versions of the value passed to them."
   ]
  },
  {
   "cell_type": "markdown",
   "id": "edc34b76",
   "metadata": {},
   "source": [
    "# Why does this expression cause an error? How can you fix it?\n",
    "\n",
    "'I have eaten ' + 99 + ' burritos.'"
   ]
  },
  {
   "cell_type": "markdown",
   "id": "8c5dc0fe",
   "metadata": {},
   "source": [
    "The expression causes an error because 99 is an integer, and only strings can be concatenated to other strings\n",
    "with the + operator. The correct way is I have eaten ' + str(99) + ' burritos.'."
   ]
  }
 ],
 "metadata": {
  "kernelspec": {
   "display_name": "Python 3 (ipykernel)",
   "language": "python",
   "name": "python3"
  },
  "language_info": {
   "codemirror_mode": {
    "name": "ipython",
    "version": 3
   },
   "file_extension": ".py",
   "mimetype": "text/x-python",
   "name": "python",
   "nbconvert_exporter": "python",
   "pygments_lexer": "ipython3",
   "version": "3.9.12"
  }
 },
 "nbformat": 4,
 "nbformat_minor": 5
}
