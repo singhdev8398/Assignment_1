{
 "cells": [
  {
   "cell_type": "markdown",
   "id": "9374d1cb",
   "metadata": {},
   "source": [
    "# 1. Why are functions advantageous to have in your programs?"
   ]
  },
  {
   "cell_type": "markdown",
   "id": "7d506703",
   "metadata": {},
   "source": [
    "Ans :- Function reduce the need for duplicate code. in the program we write the code one time and called the many time.\n",
    "       This makes programs shorter, easier to read, and easier to update. "
   ]
  },
  {
   "cell_type": "markdown",
   "id": "ce526bf9",
   "metadata": {},
   "source": [
    "# 2. When does the code in a function run: when it's specified or when it's called?"
   ]
  },
  {
   "cell_type": "markdown",
   "id": "07c6b7a1",
   "metadata": {},
   "source": [
    "Ans :- The code in a function executes when the function is called, not when the function is defined."
   ]
  },
  {
   "cell_type": "markdown",
   "id": "049cc707",
   "metadata": {},
   "source": [
    "# 3. What statement creates a function?"
   ]
  },
  {
   "cell_type": "markdown",
   "id": "5b801136",
   "metadata": {},
   "source": [
    "Ans :- the def statements define a function "
   ]
  },
  {
   "cell_type": "code",
   "execution_count": 3,
   "id": "a70fb2cb",
   "metadata": {},
   "outputs": [
    {
     "name": "stdout",
     "output_type": "stream",
     "text": [
      "Devendra Singh\n"
     ]
    }
   ],
   "source": [
    "#example\n",
    "def name():                #define function\n",
    "    print(\"Devendra Singh\")\n",
    "name()      # call the function"
   ]
  },
  {
   "cell_type": "markdown",
   "id": "66f8e71d",
   "metadata": {},
   "source": [
    "# 4. What is the difference between a function and a function call?"
   ]
  },
  {
   "cell_type": "markdown",
   "id": "5ab9b602",
   "metadata": {},
   "source": [
    "Ans:- first of all we want to creat a new function then we use the def statement and write the codes inside.\n",
    "    \n",
    "    we already write a function but we want to execute given function then we call the function name for the execution,then function return the value \n",
    "    we define inside the function\n",
    "    "
   ]
  },
  {
   "cell_type": "markdown",
   "id": "b6e1d433",
   "metadata": {},
   "source": [
    "# 5. How many global scopes are there in a Python program? How many local scopes?"
   ]
  },
  {
   "cell_type": "markdown",
   "id": "27596e18",
   "metadata": {},
   "source": [
    "Ans :- there is one global scope and one local scope and one nonlocal scope are created whenever a function is called."
   ]
  },
  {
   "cell_type": "markdown",
   "id": "a759d730",
   "metadata": {},
   "source": [
    "# 6. What happens to variables in a local scope when the function call returns?"
   ]
  },
  {
   "cell_type": "markdown",
   "id": "cd260296",
   "metadata": {},
   "source": [
    "Ans:- When a function returns, the local scope is destroyed, and all the variables in it are forgotten."
   ]
  },
  {
   "cell_type": "markdown",
   "id": "bc1452ee",
   "metadata": {},
   "source": [
    "# 7. What is the concept of a return value? Is it possible to have a return value in an expression?"
   ]
  },
  {
   "cell_type": "markdown",
   "id": "93226f2d",
   "metadata": {},
   "source": [
    "Ans:- A return value is the value that a function call evaluates to. Like any value, a return value can be used as part of an expression."
   ]
  },
  {
   "cell_type": "markdown",
   "id": "1681ced2",
   "metadata": {},
   "source": [
    "# 8. If a function does not have a return statement, what is the return value of a call to that function?"
   ]
  },
  {
   "cell_type": "markdown",
   "id": "1a502c7c",
   "metadata": {},
   "source": [
    "Ans:- when a function does not have a return statement, then we call the function after execution the return value of the function is none."
   ]
  },
  {
   "cell_type": "markdown",
   "id": "963be7e9",
   "metadata": {},
   "source": [
    "# 9. How do you make a function variable refer to the global variable?"
   ]
  },
  {
   "cell_type": "markdown",
   "id": "be58be4b",
   "metadata": {},
   "source": [
    "Ans :- if any varialbe define inside the function that is the local variable but we change the local variable in globle variable by useing the global statement. "
   ]
  },
  {
   "cell_type": "markdown",
   "id": "65efc21a",
   "metadata": {},
   "source": [
    "# 10. What is the data type of None?"
   ]
  },
  {
   "cell_type": "markdown",
   "id": "82fd2876",
   "metadata": {},
   "source": [
    "Ans:- the data type of None is Nonetype "
   ]
  },
  {
   "cell_type": "markdown",
   "id": "796d8ddc",
   "metadata": {},
   "source": [
    "# 11. What does the sentence import areallyourpetsnamederic do?"
   ]
  },
  {
   "cell_type": "markdown",
   "id": "7753b10e",
   "metadata": {},
   "source": [
    "Ans:- That import statement imports a module named areallyourpetsnamederic. (This isn't a real Python module, by the way.)"
   ]
  },
  {
   "cell_type": "markdown",
   "id": "645e2911",
   "metadata": {},
   "source": [
    "# 12. If you had a bacon() feature in a spam module, what would you call it after importing spam?"
   ]
  },
  {
   "cell_type": "markdown",
   "id": "dfd8396b",
   "metadata": {},
   "source": [
    "Ans:- This function can be called with spam. bacon().\n",
    "\n",
    "    import spam:\n",
    "    spam.bacon()\n",
    "        "
   ]
  },
  {
   "cell_type": "markdown",
   "id": "77d04ceb",
   "metadata": {},
   "source": [
    "# 13. What can you do to save a programme from crashing if it encounters an error?"
   ]
  },
  {
   "cell_type": "markdown",
   "id": "655f5951",
   "metadata": {},
   "source": [
    "Ans:- error handling can be used to notify the user of why the error occurred and gracefully exit the process that caused the error."
   ]
  },
  {
   "cell_type": "markdown",
   "id": "e3e937cd",
   "metadata": {},
   "source": [
    "# 14. What is the purpose of the try clause? What is the purpose of the except clause?"
   ]
  },
  {
   "cell_type": "markdown",
   "id": "076e0409",
   "metadata": {},
   "source": [
    "Ans:- try ......except is a statement handling the exception problem. in the try statement we write code which is we want if code is right then execute the try. otherwise run except (in the except we write error code for user )"
   ]
  },
  {
   "cell_type": "code",
   "execution_count": null,
   "id": "8fa72559",
   "metadata": {},
   "outputs": [],
   "source": []
  }
 ],
 "metadata": {
  "kernelspec": {
   "display_name": "Python 3 (ipykernel)",
   "language": "python",
   "name": "python3"
  },
  "language_info": {
   "codemirror_mode": {
    "name": "ipython",
    "version": 3
   },
   "file_extension": ".py",
   "mimetype": "text/x-python",
   "name": "python",
   "nbconvert_exporter": "python",
   "pygments_lexer": "ipython3",
   "version": "3.9.12"
  }
 },
 "nbformat": 4,
 "nbformat_minor": 5
}
